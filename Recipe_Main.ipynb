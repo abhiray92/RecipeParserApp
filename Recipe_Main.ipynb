{
 "cells": [
  {
   "cell_type": "code",
   "execution_count": 1,
   "id": "0d5ceb58-3d06-43dd-81ff-cf8c7e068cfe",
   "metadata": {},
   "outputs": [],
   "source": [
    "from recipeUI import RootUI\n",
    "from recipeParser import RecipeParser\n",
    "from recipeUI import SaveFile\n",
    "import webbrowser\n",
    "\n",
    "def main():\n",
    "    # Create UI instance\n",
    "    ui = RootUI()\n",
    "\n",
    "    # Run UI to get file paths\n",
    "    ui.run_application()\n",
    "\n",
    "    if ui.fileflag:\n",
    "        if not ui.filenames:\n",
    "            return\n",
    "        comparser = RecipeParser(ui.filenames)\n",
    "        combiner = comparser.combinefile()\n",
    "        save_file = SaveFile(combiner)\n",
    "        save_file.run_application()\n",
    "    elif ui.spit_file or ui.approved_file:\n",
    "        # Create parser instance\n",
    "        parser = RecipeParser(ui.spit_file, ui.approved_file)\n",
    "        # Parse files\n",
    "        table = parser.parse_with_spit_file()\n",
    "        approved_val = parser.get_approvedfile()\n",
    "        #Get the Column selected from UI\n",
    "        selected_column = parser.selected_column\n",
    "        #Modified Approved_val for comparison with the Spit File from the Line\n",
    "        approved_val = parser.selected_col_approved_val(approved_val)\n",
    "\n",
    "        # Additional operations and comparisons as needed\n",
    "        combined_df = parser.compare_columns(table,approved_val)\n",
    "\n",
    "        print(combined_df)\n",
    "    \n",
    "        # Apply highlighting\n",
    "        styled_result = parser.apply_highlighting(combined_df)\n",
    "\n",
    "        name = 'styled_window.html'\n",
    "        styled_result.to_html(name)\n",
    "        webbrowser.open(name)\n",
    "    else:\n",
    "        return\n",
    "\n",
    "    \n",
    "    \n",
    "\n",
    "if __name__ == \"__main__\":\n",
    "   \n",
    "    main()\n"
   ]
  },
  {
   "cell_type": "code",
   "execution_count": null,
   "id": "fa482737-eb1d-4407-a270-e731dda675bd",
   "metadata": {},
   "outputs": [],
   "source": []
  }
 ],
 "metadata": {
  "kernelspec": {
   "display_name": "Python 3 (ipykernel)",
   "language": "python",
   "name": "python3"
  },
  "language_info": {
   "codemirror_mode": {
    "name": "ipython",
    "version": 3
   },
   "file_extension": ".py",
   "mimetype": "text/x-python",
   "name": "python",
   "nbconvert_exporter": "python",
   "pygments_lexer": "ipython3",
   "version": "3.11.5"
  }
 },
 "nbformat": 4,
 "nbformat_minor": 5
}
